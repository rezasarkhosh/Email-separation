{
 "cells": [
  {
   "cell_type": "code",
   "execution_count": 19,
   "id": "13d680f3",
   "metadata": {},
   "outputs": [],
   "source": [
    "import spacy\n",
    "nlp = spacy.load(\"en_core_web_sm\")"
   ]
  },
  {
   "cell_type": "code",
   "execution_count": 59,
   "id": "ba62ad38",
   "metadata": {},
   "outputs": [
    {
     "data": {
      "text/plain": [
       "'Dayton high school, 8th grade students information\\n==================================================\\n\\nName\\tbirth day   \\temail\\n-----\\t------------\\t------\\nVirat   5 June, 1882    virat@kohli.com\\nMaria\\t12 April, 2001  maria@sharapova.com\\nSerena  24 June, 1998   serena@williams.com \\nJoe      1 May, 1997    joe@root.com\\n\\n\\n'"
      ]
     },
     "execution_count": 59,
     "metadata": {},
     "output_type": "execute_result"
    }
   ],
   "source": [
    "with open(\"students.txt\" , \"r\") as f:\n",
    "    text = f.read()\n",
    "    \n",
    "text"
   ]
  },
  {
   "cell_type": "code",
   "execution_count": 65,
   "id": "1ebef0c9",
   "metadata": {},
   "outputs": [
    {
     "name": "stdout",
     "output_type": "stream",
     "text": [
      "['virat@kohli.com', 'maria@sharapova.com', 'serena@williams.com', 'joe@root.com']\n",
      "\n",
      "after converting ro string:\n"
     ]
    },
    {
     "data": {
      "text/plain": [
       "'virat@kohli.com maria@sharapova.com serena@williams.com joe@root.com'"
      ]
     },
     "execution_count": 65,
     "metadata": {},
     "output_type": "execute_result"
    }
   ],
   "source": [
    "doc = nlp(text)\n",
    "emails = []\n",
    "for token in doc:\n",
    "    if token.like_email:\n",
    "        emails.append(token.text)\n",
    "print(emails) \n",
    "print(\"\")\n",
    "print(\"after converting ro string:\")\n",
    "emailText=\" \".join(emails)\n",
    "emailText"
   ]
  },
  {
   "cell_type": "code",
   "execution_count": 70,
   "id": "87c316fe",
   "metadata": {},
   "outputs": [
    {
     "name": "stdout",
     "output_type": "stream",
     "text": [
      "virat@kohli.com maria@sharapova.com serena@williams.com joe@root.com\n",
      "X\n",
      "X\n",
      "X\n",
      "PROPN\n"
     ]
    },
    {
     "data": {
      "text/plain": [
       "{101: 3, 96: 1}"
      ]
     },
     "execution_count": 70,
     "metadata": {},
     "output_type": "execute_result"
    }
   ],
   "source": [
    "doc = nlp(emailText)\n",
    "print(doc)\n",
    "for token in doc:\n",
    "    print(token.pos_)\n",
    "doc.count_by(spacy.attrs.POS)"
   ]
  },
  {
   "cell_type": "code",
   "execution_count": 73,
   "id": "0381dfdf",
   "metadata": {},
   "outputs": [
    {
     "name": "stdout",
     "output_type": "stream",
     "text": [
      "other\n"
     ]
    }
   ],
   "source": [
    "doc.vocab[101].text\n",
    "print(spacy.explain(doc.vocab[101].text))"
   ]
  },
  {
   "cell_type": "code",
   "execution_count": 75,
   "id": "60a993a9",
   "metadata": {},
   "outputs": [],
   "source": [
    "#So we can conclude that the emails are in the OTHER section."
   ]
  },
  {
   "cell_type": "code",
   "execution_count": null,
   "id": "ab3a1b2e",
   "metadata": {},
   "outputs": [],
   "source": []
  }
 ],
 "metadata": {
  "kernelspec": {
   "display_name": "Python 3 (ipykernel)",
   "language": "python",
   "name": "python3"
  },
  "language_info": {
   "codemirror_mode": {
    "name": "ipython",
    "version": 3
   },
   "file_extension": ".py",
   "mimetype": "text/x-python",
   "name": "python",
   "nbconvert_exporter": "python",
   "pygments_lexer": "ipython3",
   "version": "3.9.13"
  }
 },
 "nbformat": 4,
 "nbformat_minor": 5
}
